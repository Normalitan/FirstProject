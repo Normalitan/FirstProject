{
 "cells": [
  {
   "cell_type": "markdown",
   "id": "ed175a82",
   "metadata": {},
   "source": [
    "# Project Submission\n",
    "\n",
    "**Please use this notebook for your submission.**\n",
    "\n",
    "Make sure to fill out all the required fields and to answer all the questions.\n",
    "\n",
    "You will be working with a dataset that includes the results of international football matches from 1872 to 2024. The matches range from FIFA World Cups to regular friendly matches. \n",
    "\n",
    "At the end of this project, you will have answered the following questions:\n",
    "\n",
    "1. What is the average number of goals for the home team? \n",
    "2. What is the average number of goals for the away team? \n",
    "3. What is the country with the highest overall home score?\n",
    "4. What are the top 3 type of tournaments?\n",
    "5. Which country has the highest overall FIFA World Cup goals?\n",
    "\n",
    "\n",
    "**Submission Requirements:**\n",
    "\n",
    "- Make sure that you run all cells with code in your notebook before submitting.\n",
    "- You can add additional cells of code if you want, but make sure to clean up your notebook, and only leave the code required to answer the questions.\n",
    "\n",
    "\n",
    "_Original Data Source: [Kaggle](https://www.kaggle.com/datasets/martj42/international-football-results-from-1872-to-2017/data)_"
   ]
  },
  {
   "cell_type": "markdown",
   "id": "43e336b8",
   "metadata": {},
   "source": [
    "## Step 1: Getting Started\n",
    "\n",
    "You will mainly work with a Python library called Pandas. Pandas is a powerful library that allows us to manipulate data. In order to use Pandas, you first have to import it. "
   ]
  },
  {
   "cell_type": "code",
   "execution_count": 536,
   "id": "3033fd44",
   "metadata": {},
   "outputs": [],
   "source": [
    "import pandas as pd"
   ]
  },
  {
   "cell_type": "markdown",
   "id": "f7e3b7f7",
   "metadata": {},
   "source": [
    "## Step 2: Loading and Exporing the Data\n",
    "\n",
    "You can use Pandas to explore and manipulate the _results.csv_ file. \n",
    "You first have to load the csv file into a Pandas dataframe, so you can then analyize the data. \n",
    "\n",
    "When using `pd.read_csv()`, make sure you inlcude the correct path to the csv file, depending on where you saved it when you downloaded it."
   ]
  },
  {
   "cell_type": "code",
   "execution_count": 538,
   "id": "2c9de780",
   "metadata": {},
   "outputs": [],
   "source": [
    "# First: Load the csv file into a Pandas dataframe (df)\n",
    "\n",
    "df = pd.read_csv('results.csv')"
   ]
  },
  {
   "cell_type": "code",
   "execution_count": 539,
   "id": "bb2a11f0",
   "metadata": {},
   "outputs": [
    {
     "name": "stdout",
     "output_type": "stream",
     "text": [
      "<class 'pandas.core.frame.DataFrame'>\n",
      "RangeIndex: 45315 entries, 0 to 45314\n",
      "Data columns (total 9 columns):\n",
      " #   Column      Non-Null Count  Dtype \n",
      "---  ------      --------------  ----- \n",
      " 0   date        45315 non-null  object\n",
      " 1   home_team   45315 non-null  object\n",
      " 2   away_team   45315 non-null  object\n",
      " 3   home_score  45315 non-null  int64 \n",
      " 4   away_score  45315 non-null  int64 \n",
      " 5   tournament  45315 non-null  object\n",
      " 6   city        45315 non-null  object\n",
      " 7   country     45315 non-null  object\n",
      " 8   neutral     45315 non-null  bool  \n",
      "dtypes: bool(1), int64(2), object(6)\n",
      "memory usage: 2.8+ MB\n"
     ]
    }
   ],
   "source": [
    "# Explore the df\n",
    "\n",
    "df.info()"
   ]
  },
  {
   "cell_type": "markdown",
   "id": "6a2aa881",
   "metadata": {},
   "source": [
    "## Step 3: Data Analysis"
   ]
  },
  {
   "cell_type": "markdown",
   "id": "98b9d5dd",
   "metadata": {},
   "source": [
    "### Q1: What is the average number of goals for the home team?\n",
    "\n",
    "Hint: You can call the `mean()` method on the _'home_score'_ column."
   ]
  },
  {
   "cell_type": "code",
   "execution_count": 542,
   "id": "c2c5b5ea",
   "metadata": {},
   "outputs": [
    {
     "name": "stdout",
     "output_type": "stream",
     "text": [
      "1.7393136930376256\n"
     ]
    }
   ],
   "source": [
    "# Calculating the average number of goals for the home team\n",
    "average_home_goals = df['home_score'].mean()\n",
    "\n",
    "print(average_home_goals)"
   ]
  },
  {
   "cell_type": "markdown",
   "id": "ce194e01",
   "metadata": {},
   "source": [
    "### Q2: What is the average number of goals for the away team?\n",
    "\n",
    "Hint: You can call the `mean()` method on the _'away_score'_ column."
   ]
  },
  {
   "cell_type": "code",
   "execution_count": 544,
   "id": "4fb43467",
   "metadata": {},
   "outputs": [
    {
     "name": "stdout",
     "output_type": "stream",
     "text": [
      "1.1782412004854905\n"
     ]
    }
   ],
   "source": [
    "# Calculating the average number of goals for the away team\n",
    "average_away_goals = df['away_score'].mean()\n",
    "\n",
    "print(average_away_goals)"
   ]
  },
  {
   "cell_type": "markdown",
   "id": "c6044d75",
   "metadata": {},
   "source": [
    "### Q3: What is the country with the highest overall home score?\n",
    "\n",
    "Hint: You will need to group the data by country, then get the sum of home scores for each country. You can use the `idxmax()` function to find the index(country) with the highest sum. "
   ]
  },
  {
   "cell_type": "code",
   "execution_count": 546,
   "id": "e5d93b04",
   "metadata": {},
   "outputs": [
    {
     "name": "stdout",
     "output_type": "stream",
     "text": [
      "Brazil\n"
     ]
    }
   ],
   "source": [
    "# Calculating the  country with the highest overall home score\n",
    "highest_home_score_country = df.groupby('home_team')['home_score'].sum().idxmax()\n",
    "\n",
    "print(highest_home_score_country)"
   ]
  },
  {
   "cell_type": "markdown",
   "id": "5a136da4",
   "metadata": {
    "tags": []
   },
   "source": [
    "### Q4: What are the top 3 type of tournaments?\n",
    "\n",
    "Hint: You can use the `value_counts()` method to count the occurences of each unique value in the _'tournament'_ column."
   ]
  },
  {
   "cell_type": "code",
   "execution_count": 548,
   "id": "2d65e4e3",
   "metadata": {
    "scrolled": true,
    "tags": []
   },
   "outputs": [
    {
     "name": "stdout",
     "output_type": "stream",
     "text": [
      "tournament\n",
      "Friendly                        17773\n",
      "FIFA World Cup qualification     8016\n",
      "UEFA Euro qualification          2815\n",
      "Name: count, dtype: int64\n"
     ]
    }
   ],
   "source": [
    "top_tournament_types = df['tournament'].value_counts().head(3)\n",
    "\n",
    "print(top_tournament_types)"
   ]
  },
  {
   "cell_type": "markdown",
   "id": "0bdc8158",
   "metadata": {
    "tags": []
   },
   "source": [
    "### Q5: Which country has the highest overall FIFA World Cup goals?\n",
    "\n",
    "To answer this question, consider breaking down your solution into 3 steps.\n",
    "\n",
    "**5.1 Create a new dataframe (fifa_df) that only contains rows where the \"tournament\" column == 'FIFA World Cup'.**"
   ]
  },
  {
   "cell_type": "code",
   "execution_count": 577,
   "id": "db30530c",
   "metadata": {},
   "outputs": [],
   "source": [
    "#  Creating a new dataframe fifa_df that only contains rows where the \"tournament\" column == 'FIFA World Cup'.\n",
    "fifa_df = df[df['tournament'] == 'FIFA World Cup']"
   ]
  },
  {
   "cell_type": "markdown",
   "id": "c06b0011",
   "metadata": {},
   "source": [
    "**5.2 In your new fifa_df, create ~a new _'total_score'_ column that sums _'home_score'_ + _'away_score'_ for each row.**\n",
    "\n",
    "PS. If you get a \"SettingWithCopyWarning\", please ignore it."
   ]
  },
  {
   "cell_type": "code",
   "execution_count": 581,
   "id": "0d3b418a-3034-4eb8-a59b-56920341a60c",
   "metadata": {
    "tags": []
   },
   "outputs": [
    {
     "name": "stdout",
     "output_type": "stream",
     "text": [
      "1311     3\n",
      "1312     5\n",
      "1313     3\n",
      "1314     4\n",
      "1315     1\n",
      "        ..\n",
      "44349    3\n",
      "44351    3\n",
      "44352    2\n",
      "44356    3\n",
      "44358    6\n",
      "Name: total_score, Length: 964, dtype: int64\n"
     ]
    },
    {
     "name": "stderr",
     "output_type": "stream",
     "text": [
      "C:\\Users\\User\\AppData\\Local\\Temp\\ipykernel_22804\\3136744117.py:2: SettingWithCopyWarning: \n",
      "A value is trying to be set on a copy of a slice from a DataFrame.\n",
      "Try using .loc[row_indexer,col_indexer] = value instead\n",
      "\n",
      "See the caveats in the documentation: https://pandas.pydata.org/pandas-docs/stable/user_guide/indexing.html#returning-a-view-versus-a-copy\n",
      "  fifa_df['total_score'] = fifa_df['home_score'] + fifa_df['away_score']\n"
     ]
    }
   ],
   "source": [
    "# Creating 'total_score' column that sums 'home_score' and 'away_score'\n",
    "fifa_df['total_score'] = fifa_df['home_score'] + fifa_df['away_score']\n",
    "\n",
    "# Display the first few rows of the modified fifa_df \n",
    "print(fifa_df['total_score'])\n",
    "# \"SettingWithCopyWarning\" shows, ignore this"
   ]
  },
  {
   "cell_type": "markdown",
   "id": "08f8e9d7",
   "metadata": {},
   "source": [
    "**5.3 Group your data by country, then get the sum of the _'total_score'_ column. From there, you can use `idxmax()` to find the country with the highest _'total_score'_.**\n"
   ]
  },
  {
   "cell_type": "code",
   "execution_count": 583,
   "id": "8e7f0cd6-6af3-4545-8510-3eb84ddf5e4c",
   "metadata": {
    "tags": []
   },
   "outputs": [
    {
     "name": "stdout",
     "output_type": "stream",
     "text": [
      "The country with the highest total FIFA World Cup goals is: Brazil\n"
     ]
    }
   ],
   "source": [
    "highest_scoring_country = fifa_df.groupby('country')['total_score'].sum().idxmax()\n",
    "print(f'The country with the highest total FIFA World Cup goals is: {highest_scoring_country}')"
   ]
  }
 ],
 "metadata": {
  "kernelspec": {
   "display_name": "Python 3 (ipykernel)",
   "language": "python",
   "name": "python3"
  },
  "language_info": {
   "codemirror_mode": {
    "name": "ipython",
    "version": 3
   },
   "file_extension": ".py",
   "mimetype": "text/x-python",
   "name": "python",
   "nbconvert_exporter": "python",
   "pygments_lexer": "ipython3",
   "version": "3.11.7"
  }
 },
 "nbformat": 4,
 "nbformat_minor": 5
}
